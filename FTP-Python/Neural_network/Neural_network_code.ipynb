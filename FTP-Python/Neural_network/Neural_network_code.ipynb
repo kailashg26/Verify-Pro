{
  "nbformat": 4,
  "nbformat_minor": 0,
  "metadata": {
    "kernelspec": {
      "display_name": "Python 3",
      "language": "python",
      "name": "python3"
    },
    "language_info": {
      "codemirror_mode": {
        "name": "ipython",
        "version": 3
      },
      "file_extension": ".py",
      "mimetype": "text/x-python",
      "name": "python",
      "nbconvert_exporter": "python",
      "pygments_lexer": "ipython3",
      "version": "3.6.13"
    },
    "colab": {
      "name": "Unsupervised nn - final.ipynb",
      "provenance": []
    }
  },
  "cells": [
    {
      "cell_type": "markdown",
      "metadata": {
        "id": "N7rj5oVvVINX"
      },
      "source": [
        "# Dialect prediction using Auto-Encoder "
      ]
    },
    {
      "cell_type": "code",
      "metadata": {
        "id": "F7DIE5IWVINd"
      },
      "source": [
        "# Step 1 - Trained Neural Network Autoencoder-Decoder Model on a vocalubry of 300 words\n",
        "# Step 2 - Used the latent features of the Encoder for the Label prediction\n",
        "# Step 3 - Integrated the Cost variation across label in the form of label class size/probability\n",
        "#          (Cost is inversly proportion to label class probability)\n",
        "# Step 4 - Saved the model and other attributes in a functional object\n",
        "# Step 5 - Used the saved model and object for the label prediction"
      ],
      "execution_count": null,
      "outputs": []
    },
    {
      "cell_type": "markdown",
      "metadata": {
        "id": "Abv_PbtVVINe"
      },
      "source": [
        "## Load Required Library "
      ]
    },
    {
      "cell_type": "code",
      "metadata": {
        "colab": {
          "base_uri": "https://localhost:8080/"
        },
        "id": "ouFGHpvkJm0N",
        "outputId": "c40e7919-3d13-4a19-9fc6-4f77de23a568"
      },
      "source": [
        "!pip install tensorflow-addons"
      ],
      "execution_count": null,
      "outputs": [
        {
          "output_type": "stream",
          "text": [
            "Collecting tensorflow-addons\n",
            "\u001b[?25l  Downloading https://files.pythonhosted.org/packages/66/4b/e893d194e626c24b3df2253066aa418f46a432fdb68250cde14bf9bb0700/tensorflow_addons-0.13.0-cp37-cp37m-manylinux2010_x86_64.whl (679kB)\n",
            "\r\u001b[K     |▌                               | 10kB 11.3MB/s eta 0:00:01\r\u001b[K     |█                               | 20kB 17.0MB/s eta 0:00:01\r\u001b[K     |█▌                              | 30kB 16.6MB/s eta 0:00:01\r\u001b[K     |██                              | 40kB 14.6MB/s eta 0:00:01\r\u001b[K     |██▍                             | 51kB 7.9MB/s eta 0:00:01\r\u001b[K     |███                             | 61kB 9.1MB/s eta 0:00:01\r\u001b[K     |███▍                            | 71kB 7.9MB/s eta 0:00:01\r\u001b[K     |███▉                            | 81kB 8.7MB/s eta 0:00:01\r\u001b[K     |████▍                           | 92kB 8.7MB/s eta 0:00:01\r\u001b[K     |████▉                           | 102kB 7.6MB/s eta 0:00:01\r\u001b[K     |█████▎                          | 112kB 7.6MB/s eta 0:00:01\r\u001b[K     |█████▉                          | 122kB 7.6MB/s eta 0:00:01\r\u001b[K     |██████▎                         | 133kB 7.6MB/s eta 0:00:01\r\u001b[K     |██████▊                         | 143kB 7.6MB/s eta 0:00:01\r\u001b[K     |███████▎                        | 153kB 7.6MB/s eta 0:00:01\r\u001b[K     |███████▊                        | 163kB 7.6MB/s eta 0:00:01\r\u001b[K     |████████▏                       | 174kB 7.6MB/s eta 0:00:01\r\u001b[K     |████████▊                       | 184kB 7.6MB/s eta 0:00:01\r\u001b[K     |█████████▏                      | 194kB 7.6MB/s eta 0:00:01\r\u001b[K     |█████████▋                      | 204kB 7.6MB/s eta 0:00:01\r\u001b[K     |██████████▏                     | 215kB 7.6MB/s eta 0:00:01\r\u001b[K     |██████████▋                     | 225kB 7.6MB/s eta 0:00:01\r\u001b[K     |███████████                     | 235kB 7.6MB/s eta 0:00:01\r\u001b[K     |███████████▋                    | 245kB 7.6MB/s eta 0:00:01\r\u001b[K     |████████████                    | 256kB 7.6MB/s eta 0:00:01\r\u001b[K     |████████████▌                   | 266kB 7.6MB/s eta 0:00:01\r\u001b[K     |█████████████                   | 276kB 7.6MB/s eta 0:00:01\r\u001b[K     |█████████████▌                  | 286kB 7.6MB/s eta 0:00:01\r\u001b[K     |██████████████                  | 296kB 7.6MB/s eta 0:00:01\r\u001b[K     |██████████████▌                 | 307kB 7.6MB/s eta 0:00:01\r\u001b[K     |███████████████                 | 317kB 7.6MB/s eta 0:00:01\r\u001b[K     |███████████████▍                | 327kB 7.6MB/s eta 0:00:01\r\u001b[K     |████████████████                | 337kB 7.6MB/s eta 0:00:01\r\u001b[K     |████████████████▍               | 348kB 7.6MB/s eta 0:00:01\r\u001b[K     |████████████████▉               | 358kB 7.6MB/s eta 0:00:01\r\u001b[K     |█████████████████▍              | 368kB 7.6MB/s eta 0:00:01\r\u001b[K     |█████████████████▉              | 378kB 7.6MB/s eta 0:00:01\r\u001b[K     |██████████████████▎             | 389kB 7.6MB/s eta 0:00:01\r\u001b[K     |██████████████████▉             | 399kB 7.6MB/s eta 0:00:01\r\u001b[K     |███████████████████▎            | 409kB 7.6MB/s eta 0:00:01\r\u001b[K     |███████████████████▊            | 419kB 7.6MB/s eta 0:00:01\r\u001b[K     |████████████████████▎           | 430kB 7.6MB/s eta 0:00:01\r\u001b[K     |████████████████████▊           | 440kB 7.6MB/s eta 0:00:01\r\u001b[K     |█████████████████████▏          | 450kB 7.6MB/s eta 0:00:01\r\u001b[K     |█████████████████████▊          | 460kB 7.6MB/s eta 0:00:01\r\u001b[K     |██████████████████████▏         | 471kB 7.6MB/s eta 0:00:01\r\u001b[K     |██████████████████████▋         | 481kB 7.6MB/s eta 0:00:01\r\u001b[K     |███████████████████████▏        | 491kB 7.6MB/s eta 0:00:01\r\u001b[K     |███████████████████████▋        | 501kB 7.6MB/s eta 0:00:01\r\u001b[K     |████████████████████████        | 512kB 7.6MB/s eta 0:00:01\r\u001b[K     |████████████████████████▋       | 522kB 7.6MB/s eta 0:00:01\r\u001b[K     |█████████████████████████       | 532kB 7.6MB/s eta 0:00:01\r\u001b[K     |█████████████████████████▌      | 542kB 7.6MB/s eta 0:00:01\r\u001b[K     |██████████████████████████      | 552kB 7.6MB/s eta 0:00:01\r\u001b[K     |██████████████████████████▌     | 563kB 7.6MB/s eta 0:00:01\r\u001b[K     |███████████████████████████     | 573kB 7.6MB/s eta 0:00:01\r\u001b[K     |███████████████████████████▌    | 583kB 7.6MB/s eta 0:00:01\r\u001b[K     |████████████████████████████    | 593kB 7.6MB/s eta 0:00:01\r\u001b[K     |████████████████████████████▍   | 604kB 7.6MB/s eta 0:00:01\r\u001b[K     |█████████████████████████████   | 614kB 7.6MB/s eta 0:00:01\r\u001b[K     |█████████████████████████████▍  | 624kB 7.6MB/s eta 0:00:01\r\u001b[K     |█████████████████████████████▉  | 634kB 7.6MB/s eta 0:00:01\r\u001b[K     |██████████████████████████████▍ | 645kB 7.6MB/s eta 0:00:01\r\u001b[K     |██████████████████████████████▉ | 655kB 7.6MB/s eta 0:00:01\r\u001b[K     |███████████████████████████████▎| 665kB 7.6MB/s eta 0:00:01\r\u001b[K     |███████████████████████████████▉| 675kB 7.6MB/s eta 0:00:01\r\u001b[K     |████████████████████████████████| 686kB 7.6MB/s \n",
            "\u001b[?25hRequirement already satisfied: typeguard>=2.7 in /usr/local/lib/python3.7/dist-packages (from tensorflow-addons) (2.7.1)\n",
            "Installing collected packages: tensorflow-addons\n",
            "Successfully installed tensorflow-addons-0.13.0\n"
          ],
          "name": "stdout"
        }
      ]
    },
    {
      "cell_type": "code",
      "metadata": {
        "colab": {
          "base_uri": "https://localhost:8080/"
        },
        "id": "o0S1QhcaXu6d",
        "outputId": "3c10a082-ef42-41a3-e038-dfab61eca80f"
      },
      "source": [
        "!pip install tensorflow-probability"
      ],
      "execution_count": null,
      "outputs": [
        {
          "output_type": "stream",
          "text": [
            "Requirement already satisfied: tensorflow-probability in /usr/local/lib/python3.7/dist-packages (0.12.1)\n",
            "Requirement already satisfied: cloudpickle>=1.3 in /usr/local/lib/python3.7/dist-packages (from tensorflow-probability) (1.3.0)\n",
            "Requirement already satisfied: gast>=0.3.2 in /usr/local/lib/python3.7/dist-packages (from tensorflow-probability) (0.4.0)\n",
            "Requirement already satisfied: dm-tree in /usr/local/lib/python3.7/dist-packages (from tensorflow-probability) (0.1.6)\n",
            "Requirement already satisfied: decorator in /usr/local/lib/python3.7/dist-packages (from tensorflow-probability) (4.4.2)\n",
            "Requirement already satisfied: six>=1.10.0 in /usr/local/lib/python3.7/dist-packages (from tensorflow-probability) (1.15.0)\n",
            "Requirement already satisfied: numpy>=1.13.3 in /usr/local/lib/python3.7/dist-packages (from tensorflow-probability) (1.19.5)\n"
          ],
          "name": "stdout"
        }
      ]
    },
    {
      "cell_type": "code",
      "metadata": {
        "id": "W0yAs8K-VINe"
      },
      "source": [
        "import matplotlib.pyplot as plt\n",
        "import numpy as np\n",
        "import pandas as pd\n",
        "import tensorflow as tf\n",
        "import tensorflow_addons as tfa\n",
        "import tensorflow_probability as tfp\n",
        "\n",
        "from tensorflow.keras import layers, losses\n",
        "from tensorflow.keras.models import Model\n",
        "import string\n",
        "import random\n",
        "import math\n",
        "import pickle\n"
      ],
      "execution_count": null,
      "outputs": []
    },
    {
      "cell_type": "markdown",
      "metadata": {
        "id": "PHuAIN_UVINf"
      },
      "source": [
        "## Paramer Declaration "
      ]
    },
    {
      "cell_type": "code",
      "metadata": {
        "id": "W7MCxAQZVINf"
      },
      "source": [
        "latent_dim = 64 #Number of Nodes in Hidden layes\n",
        "train_size = 10000 #Size of training vocablry \n",
        "v_size = 100 #Size of feature vector \n",
        "cost = [890,835,910,950,1300,850,500,750,2200,1100,3450,600,1850,900,1200] #Cost for each label\n",
        "trade_factor = 0.5 #Factor to control the trade off between uniformatiy in labels probability vs the cost-effective label selection"
      ],
      "execution_count": null,
      "outputs": []
    },
    {
      "cell_type": "markdown",
      "metadata": {
        "id": "_eTqUSFxVINg"
      },
      "source": [
        "# Feature Engineering "
      ]
    },
    {
      "cell_type": "markdown",
      "metadata": {
        "id": "-4zCWFJ6VINg"
      },
      "source": [
        "## Training Data Load "
      ]
    },
    {
      "cell_type": "code",
      "metadata": {
        "id": "J55AOQQRVINg"
      },
      "source": [
        "# The trainin dataset has been downloaded form - https://norvig.com/ngrams/\n",
        "words = pd.read_csv(\"./enable2.csv\") #Opensource data corpus\n",
        "words = list(words['aa'])\n",
        "random.shuffle(words)"
      ],
      "execution_count": null,
      "outputs": []
    },
    {
      "cell_type": "markdown",
      "metadata": {
        "id": "qRwhW3RzVINg"
      },
      "source": [
        "## Custom Data Vectorisation"
      ]
    },
    {
      "cell_type": "code",
      "metadata": {
        "id": "f31jwF2bVINh"
      },
      "source": [
        "# Creating the list with all possible characters in english language\n",
        "letters = list(string.ascii_letters)\n",
        "punc = list(string.punctuation)\n",
        "space = [' ','  ','   ']\n",
        "letters.extend(punc)\n",
        "letters.extend(space)\n",
        "random.shuffle(letters)"
      ],
      "execution_count": null,
      "outputs": []
    },
    {
      "cell_type": "code",
      "metadata": {
        "id": "ZdxSJg0DVINh"
      },
      "source": [
        "def word_to_vector(words):\n",
        "  # Creating features out of the word based on the list of characters built in previous step\n",
        "  features = list()\n",
        "  for word in words:\n",
        "      feature = ([0]*v_size)\n",
        "      for i in range(len(word)):\n",
        "          w = word[i]\n",
        "          feature[i] = letters.index(w)\n",
        "      features.append(feature)\n",
        "  return features\n",
        "\n",
        "vector_words = word_to_vector(words)"
      ],
      "execution_count": null,
      "outputs": []
    },
    {
      "cell_type": "code",
      "metadata": {
        "id": "dsAHKK9uVINh",
        "colab": {
          "base_uri": "https://localhost:8080/"
        },
        "outputId": "4cf7d3b7-a051-477d-a260-fac9034ae313"
      },
      "source": [
        "# Splitting the vocab into training and test datasets\n",
        "x_train = np.array(vector_words[:train_size])\n",
        "x_train.shape"
      ],
      "execution_count": null,
      "outputs": [
        {
          "output_type": "execute_result",
          "data": {
            "text/plain": [
              "(10000, 100)"
            ]
          },
          "metadata": {
            "tags": []
          },
          "execution_count": 8
        }
      ]
    },
    {
      "cell_type": "markdown",
      "metadata": {
        "id": "Kp-EJDsvVINi"
      },
      "source": [
        "## Unsupervised"
      ]
    },
    {
      "cell_type": "code",
      "metadata": {
        "id": "rJ25yAmfpltw"
      },
      "source": [
        "from sklearn_extra.cluster import KMedoids\n",
        "import matplotlib.pyplot as plt\n",
        "from sklearn.neighbors import DistanceMetric\n",
        "\n",
        "# ss_size = len(x_train)\n",
        "\n",
        "# small subset to test\n",
        "# x = x_train[:ss_size]\n",
        "# ss_test = x_test[:ss_size]\n",
        "# print(x.shape)\n",
        "# mh_distance = DistanceMetric.get_metric('cosine')\n",
        "\n",
        "# declare the model\n",
        "kmedoids = KMedoids(n_clusters = 15, metric='cosine')\n",
        "y_class = kmedoids.fit_predict(x_train)\n"
      ],
      "execution_count": null,
      "outputs": []
    },
    {
      "cell_type": "code",
      "metadata": {
        "colab": {
          "base_uri": "https://localhost:8080/",
          "height": 551
        },
        "id": "7U5lrZsGOJFU",
        "outputId": "b6e440c6-fef6-4596-bc07-d15b3ae296b0"
      },
      "source": [
        "# classes = np.argmax(pred, axis=1)\n",
        "y, x = np.histogram(y_class, bins=np.arange(16))\n",
        "x = x[1:]\n",
        "plt.bar(x, y)\n",
        "plt.ylabel('input')\n",
        "plt.xlabel('class')\n",
        "plt.xticks(np.arange(1, 16, step=1))\n"
      ],
      "execution_count": null,
      "outputs": [
        {
          "output_type": "execute_result",
          "data": {
            "text/plain": [
              "([<matplotlib.axis.XTick at 0x7f16ab64a310>,\n",
              "  <matplotlib.axis.XTick at 0x7f16ab64a2d0>,\n",
              "  <matplotlib.axis.XTick at 0x7f16ab92ce90>,\n",
              "  <matplotlib.axis.XTick at 0x7f16a360ba90>,\n",
              "  <matplotlib.axis.XTick at 0x7f16a360bb90>,\n",
              "  <matplotlib.axis.XTick at 0x7f16a3613550>,\n",
              "  <matplotlib.axis.XTick at 0x7f16a3613ad0>,\n",
              "  <matplotlib.axis.XTick at 0x7f16a36130d0>,\n",
              "  <matplotlib.axis.XTick at 0x7f16a361a590>,\n",
              "  <matplotlib.axis.XTick at 0x7f16a361aad0>,\n",
              "  <matplotlib.axis.XTick at 0x7f16a361abd0>,\n",
              "  <matplotlib.axis.XTick at 0x7f16a361a310>,\n",
              "  <matplotlib.axis.XTick at 0x7f16a3613610>,\n",
              "  <matplotlib.axis.XTick at 0x7f16a3621810>,\n",
              "  <matplotlib.axis.XTick at 0x7f16a3621910>],\n",
              " <a list of 15 Text major ticklabel objects>)"
            ]
          },
          "metadata": {
            "tags": []
          },
          "execution_count": 59
        },
        {
          "output_type": "display_data",
          "data": {
            "image/png": "[encoded data removed]",
            "text/plain": [
              "<Figure size 432x288 with 1 Axes>"
            ]
          },
          "metadata": {
            "tags": [],
            "needs_background": "light"
          }
        }
      ]
    },
    {
      "cell_type": "markdown",
      "metadata": {
        "id": "GHix_iaNpj43"
      },
      "source": [
        "## Model "
      ]
    },
    {
      "cell_type": "markdown",
      "metadata": {
        "id": "633M0N5rUTQO"
      },
      "source": [
        "### Loss 1"
      ]
    },
    {
      "cell_type": "code",
      "metadata": {
        "id": "AsLBtziiXcSg"
      },
      "source": [
        "# we don't have a y_true in unsupervised\n",
        "def cost_loss_fn(y_true, y_pred):\n",
        "  # cost of chosing a class\n",
        "  cost = tf.constant([890,835,910,950,1300,850,500,750,2200,1100,3450,600,1850,900,1200],dtype=tf.float32)\n",
        "  ret = tf.tensordot(y_pred, cost, axes=1)\n",
        "  # print('ret shape', ret)\n",
        "  return tf.reduce_mean(ret)"
      ],
      "execution_count": null,
      "outputs": []
    },
    {
      "cell_type": "code",
      "metadata": {
        "id": "Wqv4GS3uexPe"
      },
      "source": [
        "def train_nn_with_custom_loss_function(custom_loss_function, nn, lr, batch_size, nb_epochs, save_to_folder=None, plot_loss=True):\n",
        "  \"\"\"\n",
        "    Train a neural net with custom loss function, plots the loss\n",
        "    and returns the history (output of nn)\n",
        "\n",
        "    Args:\n",
        "      custom_loss_function (function): One of the customly developed loss\n",
        "          functions\n",
        "  \"\"\"\n",
        "  # reset session\n",
        "  tf.keras.backend.clear_session()\n",
        "  # It's  important to use run_eagerly=True in this example because the custom loss \n",
        "  # function converts tensors to numpy arrays which requires to be on eager mode\n",
        "  opt = tf.keras.optimizers.Adam(learning_rate=lr)\n",
        "  nn.compile(optimizer=opt, loss=custom_loss_function, run_eagerly=True)\n",
        "  # nn.build(input_shape=(100,))\n",
        "  nn.summary()\n",
        "  history = nn.fit(x_train, x_train,\n",
        "                epochs=nb_epochs, batch_size = batch_size, verbose=1,\n",
        "       shuffle=True)\n",
        "  \n",
        "  if save_to_folder is not None:\n",
        "    nn.save(save_to_folder)\n",
        "\n",
        "  plt.plot(history.history['loss'])\n",
        "  plt.ylabel('loss')\n",
        "  plt.xlabel('epoch')\n",
        "  # plt.set_xticks(np.arange(len(history.history['loss'])))\n",
        "  plt.show()\n",
        "\n",
        "  pred = nn.predict(x_train)\n",
        "  classes = np.argmax(pred, axis=1)\n",
        "  y, x = np.histogram(classes, bins=np.arange(16))\n",
        "  x = x[1:]\n",
        "  plt.bar(x, y)\n",
        "  plt.ylabel('input')\n",
        "  plt.xlabel('class')\n",
        "  plt.xticks(np.arange(1, 16, step=1))\n",
        "\n",
        "  plt.show()\n",
        "  return y"
      ],
      "execution_count": null,
      "outputs": []
    },
    {
      "cell_type": "code",
      "metadata": {
        "colab": {
          "base_uri": "https://localhost:8080/",
          "height": 984
        },
        "id": "nAgXazrAgQwS",
        "outputId": "eed67029-63b6-48f8-c690-df212f802381"
      },
      "source": [
        "# optimal solution is reached in this case which is the cost 500\n",
        "base_nn = tf.keras.Sequential([\n",
        "  layers.Flatten(input_shape=(100,)),\n",
        "  layers.Dense(128, activation='relu'),\n",
        "  layers.Dropout(0.2),\n",
        "  layers.Dense(15, activation='softmax')\n",
        "  ])\n",
        "y_cost1 = train_nn_with_custom_loss_function(cost_loss_fn, base_nn, 0.00001, 32, 5)"
      ],
      "execution_count": null,
      "outputs": [
        {
          "output_type": "stream",
          "text": [
            "Model: \"sequential\"\n",
            "_________________________________________________________________\n",
            "Layer (type)                 Output Shape              Param #   \n",
            "=================================================================\n",
            "flatten (Flatten)            (None, 100)               0         \n",
            "_________________________________________________________________\n",
            "dense (Dense)                (None, 128)               12928     \n",
            "_________________________________________________________________\n",
            "dropout (Dropout)            (None, 128)               0         \n",
            "_________________________________________________________________\n",
            "dense_1 (Dense)              (None, 15)                1935      \n",
            "=================================================================\n",
            "Total params: 14,863\n",
            "Trainable params: 14,863\n",
            "Non-trainable params: 0\n",
            "_________________________________________________________________\n",
            "Epoch 1/5\n",
            "313/313 [==============================] - 4s 13ms/step - loss: 742.9719\n",
            "Epoch 2/5\n",
            "313/313 [==============================] - 4s 13ms/step - loss: 622.7339\n",
            "Epoch 3/5\n",
            "313/313 [==============================] - 4s 13ms/step - loss: 558.8900\n",
            "Epoch 4/5\n",
            "313/313 [==============================] - 4s 12ms/step - loss: 530.2166\n",
            "Epoch 5/5\n",
            "313/313 [==============================] - 4s 13ms/step - loss: 519.9905\n"
          ],
          "name": "stdout"
        },
        {
          "output_type": "display_data",
          "data": {
            "image/png": "[encoded data removed]",
            "text/plain": [
              "<Figure size 432x288 with 1 Axes>"
            ]
          },
          "metadata": {
            "tags": [],
            "needs_background": "light"
          }
        },
        {
          "output_type": "display_data",
          "data": {
            "image/png": "[encoded data removed]",
            "text/plain": [
              "<Figure size 432x288 with 1 Axes>"
            ]
          },
          "metadata": {
            "tags": [],
            "needs_background": "light"
          }
        }
      ]
    },
    {
      "cell_type": "code",
      "metadata": {
        "colab": {
          "base_uri": "https://localhost:8080/",
          "height": 1000
        },
        "id": "CZyItiags5vk",
        "outputId": "4a072b88-d1b7-4ecf-8f5e-11c86817e501"
      },
      "source": [
        "# second neural net architecture finds a suboptimal solution that's 600\n",
        "nn_2 = tf.keras.Sequential([\n",
        "  layers.Flatten(input_shape=(100,)),\n",
        "  layers.Dense(64, activation='relu'),\n",
        "  layers.Dropout(0.2),\n",
        "  layers.Dense(32, activation='relu'),\n",
        "  layers.Dense(15, activation='softmax')\n",
        "  ])\n",
        "y_cost2 = train_nn_with_custom_loss_function(cost_loss_fn, nn_2, 0.0001, 64, 5)"
      ],
      "execution_count": null,
      "outputs": [
        {
          "output_type": "stream",
          "text": [
            "Model: \"sequential_2\"\n",
            "_________________________________________________________________\n",
            "Layer (type)                 Output Shape              Param #   \n",
            "=================================================================\n",
            "flatten_2 (Flatten)          (None, 100)               0         \n",
            "_________________________________________________________________\n",
            "dense_4 (Dense)              (None, 64)                6464      \n",
            "_________________________________________________________________\n",
            "dropout_2 (Dropout)          (None, 64)                0         \n",
            "_________________________________________________________________\n",
            "dense_5 (Dense)              (None, 32)                2080      \n",
            "_________________________________________________________________\n",
            "dense_6 (Dense)              (None, 15)                495       \n",
            "=================================================================\n",
            "Total params: 9,039\n",
            "Trainable params: 9,039\n",
            "Non-trainable params: 0\n",
            "_________________________________________________________________\n",
            "Epoch 1/5\n",
            "157/157 [==============================] - 2s 14ms/step - loss: 849.9276\n",
            "Epoch 2/5\n",
            "157/157 [==============================] - 2s 14ms/step - loss: 521.0963\n",
            "Epoch 3/5\n",
            "157/157 [==============================] - 2s 15ms/step - loss: 504.3739\n",
            "Epoch 4/5\n",
            "157/157 [==============================] - 2s 15ms/step - loss: 501.9698\n",
            "Epoch 5/5\n",
            "157/157 [==============================] - 2s 13ms/step - loss: 501.1815\n"
          ],
          "name": "stdout"
        },
        {
          "output_type": "display_data",
          "data": {
            "image/png": "[encoded data removed]",
            "text/plain": [
              "<Figure size 432x288 with 1 Axes>"
            ]
          },
          "metadata": {
            "tags": [],
            "needs_background": "light"
          }
        },
        {
          "output_type": "display_data",
          "data": {
            "image/png": "[encoded data removed]",
            "text/plain": [
              "<Figure size 432x288 with 1 Axes>"
            ]
          },
          "metadata": {
            "tags": [],
            "needs_background": "light"
          }
        }
      ]
    },
    {
      "cell_type": "code",
      "metadata": {
        "colab": {
          "base_uri": "https://localhost:8080/",
          "height": 1000
        },
        "id": "PF-erqOPt0Co",
        "outputId": "2b276d19-e7d5-480f-b9ab-a51659c6d4f8"
      },
      "source": [
        "# 3rd neural net architecture\n",
        "nn_3 = tf.keras.Sequential([\n",
        "  layers.Flatten(input_shape=(100,)),\n",
        "  layers.Dense(64, activation='relu'),\n",
        "  layers.Dropout(0.2),\n",
        "  layers.Dense(32, activation='relu'),\n",
        "  layers.Dense(16, activation='relu'),\n",
        "  layers.Dense(15, activation='softmax')\n",
        "  ])\n",
        "y_cost3 = train_nn_with_custom_loss_function(cost_loss_fn, nn_3, 0.0001, 128, 10)"
      ],
      "execution_count": null,
      "outputs": [
        {
          "output_type": "stream",
          "text": [
            "Model: \"sequential\"\n",
            "_________________________________________________________________\n",
            "Layer (type)                 Output Shape              Param #   \n",
            "=================================================================\n",
            "flatten (Flatten)            (None, 100)               0         \n",
            "_________________________________________________________________\n",
            "dense (Dense)                (None, 64)                6464      \n",
            "_________________________________________________________________\n",
            "dropout (Dropout)            (None, 64)                0         \n",
            "_________________________________________________________________\n",
            "dense_1 (Dense)              (None, 32)                2080      \n",
            "_________________________________________________________________\n",
            "dense_2 (Dense)              (None, 16)                528       \n",
            "_________________________________________________________________\n",
            "dense_3 (Dense)              (None, 15)                255       \n",
            "=================================================================\n",
            "Total params: 9,327\n",
            "Trainable params: 9,327\n",
            "Non-trainable params: 0\n",
            "_________________________________________________________________\n",
            "Epoch 1/10\n",
            "79/79 [==============================] - 1s 18ms/step - loss: 1028.6523\n",
            "Epoch 2/10\n",
            "79/79 [==============================] - 1s 16ms/step - loss: 763.9490\n",
            "Epoch 3/10\n",
            "79/79 [==============================] - 1s 15ms/step - loss: 627.4130\n",
            "Epoch 4/10\n",
            "79/79 [==============================] - 1s 17ms/step - loss: 606.3412\n",
            "Epoch 5/10\n",
            "79/79 [==============================] - 1s 15ms/step - loss: 603.1766\n",
            "Epoch 6/10\n",
            "79/79 [==============================] - 1s 15ms/step - loss: 601.9142\n",
            "Epoch 7/10\n",
            "79/79 [==============================] - 1s 15ms/step - loss: 601.1658\n",
            "Epoch 8/10\n",
            "79/79 [==============================] - 1s 14ms/step - loss: 601.0911\n",
            "Epoch 9/10\n",
            "79/79 [==============================] - 1s 15ms/step - loss: 600.6614\n",
            "Epoch 10/10\n",
            "79/79 [==============================] - 1s 17ms/step - loss: 600.4515\n"
          ],
          "name": "stdout"
        },
        {
          "output_type": "display_data",
          "data": {
            "image/png": "[encoded data removed]",
            "text/plain": [
              "<Figure size 432x288 with 1 Axes>"
            ]
          },
          "metadata": {
            "tags": [],
            "needs_background": "light"
          }
        },
        {
          "output_type": "display_data",
          "data": {
            "image/png": "[encoded data removed]",
            "text/plain": [
              "<Figure size 432x288 with 1 Axes>"
            ]
          },
          "metadata": {
            "tags": [],
            "needs_background": "light"
          }
        }
      ]
    },
    {
      "cell_type": "markdown",
      "metadata": {
        "id": "Jk4SM-D-UWd7"
      },
      "source": [
        "## Loss 2"
      ]
    },
    {
      "cell_type": "code",
      "metadata": {
        "id": "v4kQ5D-7VINo"
      },
      "source": [
        "# we don't have a y_true in unsupervised \n",
        "# the entropy loss maximize the entropy for a uniform distribution\n",
        "def entropy_loss_fn(y_true, y_pred):\n",
        "  y_pred = tf.reduce_mean(y_pred, axis=0)\n",
        "  ret = tf.tensordot(y_pred, tf.math.log(y_pred), axes=1)\n",
        "  return ret"
      ],
      "execution_count": null,
      "outputs": []
    },
    {
      "cell_type": "code",
      "metadata": {
        "id": "3l1flcA7xOQj",
        "colab": {
          "base_uri": "https://localhost:8080/",
          "height": 983
        },
        "outputId": "57d7efbd-1b42-4ecb-b0db-b4b5199ec0e9"
      },
      "source": [
        "# first set of hyperparams\n",
        "base_nn = tf.keras.Sequential([\n",
        "  layers.Flatten(input_shape=(100,)),\n",
        "  layers.Dense(128, activation='relu'),\n",
        "  layers.Dropout(0.2),\n",
        "  layers.Dense(15, activation='softmax')\n",
        "  ])\n",
        "y_entropy1 = train_nn_with_custom_loss_function(entropy_loss_fn, base_nn, 0.00001, 32, 5)"
      ],
      "execution_count": null,
      "outputs": [
        {
          "output_type": "stream",
          "text": [
            "Model: \"sequential\"\n",
            "_________________________________________________________________\n",
            "Layer (type)                 Output Shape              Param #   \n",
            "=================================================================\n",
            "flatten (Flatten)            (None, 100)               0         \n",
            "_________________________________________________________________\n",
            "dense (Dense)                (None, 128)               12928     \n",
            "_________________________________________________________________\n",
            "dropout (Dropout)            (None, 128)               0         \n",
            "_________________________________________________________________\n",
            "dense_1 (Dense)              (None, 15)                1935      \n",
            "=================================================================\n",
            "Total params: 14,863\n",
            "Trainable params: 14,863\n",
            "Non-trainable params: 0\n",
            "_________________________________________________________________\n",
            "Epoch 1/5\n",
            "313/313 [==============================] - 4s 13ms/step - loss: -1.6040\n",
            "Epoch 2/5\n",
            "313/313 [==============================] - 4s 14ms/step - loss: -2.0155\n",
            "Epoch 3/5\n",
            "313/313 [==============================] - 4s 13ms/step - loss: -2.1929\n",
            "Epoch 4/5\n",
            "313/313 [==============================] - 4s 12ms/step - loss: -2.2710\n",
            "Epoch 5/5\n",
            "313/313 [==============================] - 4s 12ms/step - loss: -2.3101\n"
          ],
          "name": "stdout"
        },
        {
          "output_type": "display_data",
          "data": {
            "image/png": "[encoded data removed]",
            "text/plain": [
              "<Figure size 432x288 with 1 Axes>"
            ]
          },
          "metadata": {
            "tags": [],
            "needs_background": "light"
          }
        },
        {
          "output_type": "display_data",
          "data": {
            "image/png": "[encoded data removed]",
            "text/plain": [
              "<Figure size 432x288 with 1 Axes>"
            ]
          },
          "metadata": {
            "tags": [],
            "needs_background": "light"
          }
        }
      ]
    },
    {
      "cell_type": "code",
      "metadata": {
        "colab": {
          "base_uri": "https://localhost:8080/",
          "height": 1000
        },
        "id": "HjIbQY_s3Hpw",
        "outputId": "e6b8583f-04c4-4eff-9702-f30f1e2545b4"
      },
      "source": [
        "# 2nd set of hyperparams\n",
        "nn_2 = tf.keras.Sequential([\n",
        "  layers.Flatten(input_shape=(100,)),\n",
        "  layers.Dense(64, activation='relu'),\n",
        "  layers.Dropout(0.2),\n",
        "  layers.Dense(32, activation='relu'),\n",
        "  layers.Dense(15, activation='softmax')\n",
        "  ])\n",
        "y_entropy2 = train_nn_with_custom_loss_function(entropy_loss_fn, nn_2, 0.0001, 64, 5)"
      ],
      "execution_count": null,
      "outputs": [
        {
          "output_type": "stream",
          "text": [
            "Model: \"sequential\"\n",
            "_________________________________________________________________\n",
            "Layer (type)                 Output Shape              Param #   \n",
            "=================================================================\n",
            "flatten (Flatten)            (None, 100)               0         \n",
            "_________________________________________________________________\n",
            "dense (Dense)                (None, 64)                6464      \n",
            "_________________________________________________________________\n",
            "dropout (Dropout)            (None, 64)                0         \n",
            "_________________________________________________________________\n",
            "dense_1 (Dense)              (None, 32)                2080      \n",
            "_________________________________________________________________\n",
            "dense_2 (Dense)              (None, 15)                495       \n",
            "=================================================================\n",
            "Total params: 9,039\n",
            "Trainable params: 9,039\n",
            "Non-trainable params: 0\n",
            "_________________________________________________________________\n",
            "Epoch 1/5\n",
            "157/157 [==============================] - 3s 16ms/step - loss: -1.6853\n",
            "Epoch 2/5\n",
            "157/157 [==============================] - 2s 14ms/step - loss: -2.1867\n",
            "Epoch 3/5\n",
            "157/157 [==============================] - 2s 14ms/step - loss: -2.3864\n",
            "Epoch 4/5\n",
            "157/157 [==============================] - 2s 14ms/step - loss: -2.5703\n",
            "Epoch 5/5\n",
            "157/157 [==============================] - 2s 14ms/step - loss: -2.6242\n"
          ],
          "name": "stdout"
        },
        {
          "output_type": "display_data",
          "data": {
            "image/png": "[encoded data removed]",
            "text/plain": [
              "<Figure size 432x288 with 1 Axes>"
            ]
          },
          "metadata": {
            "tags": [],
            "needs_background": "light"
          }
        },
        {
          "output_type": "display_data",
          "data": {
            "image/png": "[encoded data removed]",
            "text/plain": [
              "<Figure size 432x288 with 1 Axes>"
            ]
          },
          "metadata": {
            "tags": [],
            "needs_background": "light"
          }
        }
      ]
    },
    {
      "cell_type": "code",
      "metadata": {
        "colab": {
          "base_uri": "https://localhost:8080/",
          "height": 1000
        },
        "id": "sZlJAAol3RXD",
        "outputId": "30493e38-d7b7-45ac-9944-b2bf2e5a5835"
      },
      "source": [
        "# 3rd set of hyperparams\n",
        "nn_3 = tf.keras.Sequential([\n",
        "  layers.Flatten(input_shape=(100,)),\n",
        "  layers.Dense(64, activation='relu'),\n",
        "  layers.Dropout(0.2),\n",
        "  layers.Dense(32, activation='relu'),\n",
        "  layers.Dense(16, activation='relu'),\n",
        "  layers.Dense(15, activation='softmax')\n",
        "  ])\n",
        "y_entropy3 = train_nn_with_custom_loss_function(entropy_loss_fn, nn_3, 0.0001, 128, 5)"
      ],
      "execution_count": null,
      "outputs": [
        {
          "output_type": "stream",
          "text": [
            "Model: \"sequential_1\"\n",
            "_________________________________________________________________\n",
            "Layer (type)                 Output Shape              Param #   \n",
            "=================================================================\n",
            "flatten_1 (Flatten)          (None, 100)               0         \n",
            "_________________________________________________________________\n",
            "dense_4 (Dense)              (None, 64)                6464      \n",
            "_________________________________________________________________\n",
            "dropout_1 (Dropout)          (None, 64)                0         \n",
            "_________________________________________________________________\n",
            "dense_5 (Dense)              (None, 32)                2080      \n",
            "_________________________________________________________________\n",
            "dense_6 (Dense)              (None, 16)                528       \n",
            "_________________________________________________________________\n",
            "dense_7 (Dense)              (None, 15)                255       \n",
            "=================================================================\n",
            "Total params: 9,327\n",
            "Trainable params: 9,327\n",
            "Non-trainable params: 0\n",
            "_________________________________________________________________\n",
            "Epoch 1/5\n",
            "79/79 [==============================] - 1s 15ms/step - loss: -1.6827\n",
            "Epoch 2/5\n",
            "79/79 [==============================] - 1s 15ms/step - loss: -2.1772\n",
            "Epoch 3/5\n",
            "79/79 [==============================] - 1s 15ms/step - loss: -2.2695\n",
            "Epoch 4/5\n",
            "79/79 [==============================] - 1s 15ms/step - loss: -2.3751\n",
            "Epoch 5/5\n",
            "79/79 [==============================] - 1s 15ms/step - loss: -2.5028\n"
          ],
          "name": "stdout"
        },
        {
          "output_type": "display_data",
          "data": {
            "image/png": "[encoded data removed]",
            "text/plain": [
              "<Figure size 432x288 with 1 Axes>"
            ]
          },
          "metadata": {
            "tags": [],
            "needs_background": "light"
          }
        },
        {
          "output_type": "display_data",
          "data": {
            "image/png": "[encoded data removed]",
            "text/plain": [
              "<Figure size 432x288 with 1 Axes>"
            ]
          },
          "metadata": {
            "tags": [],
            "needs_background": "light"
          }
        }
      ]
    },
    {
      "cell_type": "code",
      "metadata": {
        "id": "fKkTPx5KxmK8"
      },
      "source": [
        "test_words = ['get abcde.txt', 'get abcdf.txt', 'get aaaaaa.txt', 'get zzzzzz.txt', 'get fffffff.txt']\n",
        "def print_predicted(word, nn):\n",
        "  word_vector = word_to_vector(word)\n",
        "  # print(word_vector)\n",
        "  pred = nn.predict(word_vector)\n",
        "  # print(pred)\n",
        "  predicted_class = np.argmax(pred, axis=1)\n",
        "  # print(predicted_class)\n",
        "  print('Class of word \\\"%s\\\" is %s' % (word[0], predicted_class[0]))\n",
        "\n",
        "# print(test_words[0])\n",
        "for i in range(len(test_words)):\n",
        "  print_predicted([test_words[i]], nn_entropy)"
      ],
      "execution_count": null,
      "outputs": []
    },
    {
      "cell_type": "code",
      "metadata": {
        "colab": {
          "base_uri": "https://localhost:8080/",
          "height": 370
        },
        "id": "hZNIEjpoGjvx",
        "outputId": "088dc6c5-d1d6-4ba7-fd29-9b20b3806e04"
      },
      "source": [
        "def plot_combined(y1, y2, y1_name, y2_name):\n",
        "  # Numbers of pairs of bars you want\n",
        "  N = 15\n",
        "\n",
        "  # Data on X-axis\n",
        "\n",
        "  # Specify the values of blue bars (height)\n",
        "  blue_bar = y1\n",
        "  # Specify the values of orange bars (height)\n",
        "  orange_bar = y2\n",
        "\n",
        "  # Position of bars on x-axis\n",
        "  ind = list(range(1, 16))\n",
        "  print(len(ind))\n",
        "  print(len(blue_bar))\n",
        "  # Figure size\n",
        "  plt.figure(figsize=(10,5))\n",
        "\n",
        "  # Width of a bar \n",
        "  width = np.min(np.diff(ind))/3     \n",
        "\n",
        "  # Plotting\n",
        "  plt.bar(ind, blue_bar , width, label=y1_name)\n",
        "  plt.bar(ind + width, orange_bar, width, label=y2_name)\n",
        "\n",
        "  plt.xlabel('Classes')\n",
        "  plt.ylabel('Number of examples')\n",
        "  # plt.title('Here goes title of the plot')\n",
        "\n",
        "  # xticks()\n",
        "  # First argument - A list of positions at which ticks should be placed\n",
        "  # Second argument -  A list of labels to place at the given locations\n",
        "  plt.xticks(np.arange(1, 16, step=1))\n",
        "\n",
        "  # Finding the best position for legends and putting it\n",
        "  plt.legend(loc='best')\n",
        "  plt.show()\n",
        "\n",
        "plot_combined(y_cost1, y_entropy3, \"Cost loss\", \"Entropy loss\")"
      ],
      "execution_count": null,
      "outputs": [
        {
          "output_type": "stream",
          "text": [
            "15\n",
            "15\n"
          ],
          "name": "stdout"
        },
        {
          "output_type": "display_data",
          "data": {
            "image/png": "[encoded data removed]",
            "text/plain": [
              "<Figure size 720x360 with 1 Axes>"
            ]
          },
          "metadata": {
            "tags": [],
            "needs_background": "light"
          }
        }
      ]
    },
    {
      "cell_type": "markdown",
      "metadata": {
        "id": "KUagf2rLYzFu"
      },
      "source": [
        "## Loss 3\n"
      ]
    },
    {
      "cell_type": "code",
      "metadata": {
        "id": "_FG_PXzyZYhH"
      },
      "source": [
        "from scipy.spatial import distance\n",
        "\n",
        "# we don't have a y_true in unsupervised\n",
        "def distance_loss_fn(y_true, y_pred):\n",
        "  # calculate the centroid of every cluster\n",
        "  pred = tf.argmax(y_pred, axis=1).numpy()\n",
        "  # centroids coordinates\n",
        "  centroids = np.zeros((15, 100), dtype=float)\n",
        "  # centroids frequency\n",
        "  centroids_f = np.zeros(15)\n",
        "  # points has the coordinates of the space of the points to cluster\n",
        "  points = y_true.numpy()\n",
        "  # iterate on points\n",
        "  for idx in range(points.shape[0]):\n",
        "    # sum point to calculate centroid later\n",
        "    centroids[pred[idx]] += points[idx]\n",
        "    centroids_f[pred[idx]] += 1\n",
        "  # average over all points to calculate centroid\n",
        "  for idx in range(len(centroids)):\n",
        "    if centroids_f[idx] == 0:\n",
        "      continue\n",
        "    centroids[idx] /= centroids_f[idx]\n",
        "  # sum over the distance between each point and the centroid to calculate the loss to minimize\n",
        "  loss = 0\n",
        "  for idx in range(len(points)):\n",
        "    # add the distance between each coordinate and the centroid of the predicted class\n",
        "    # tfa.metrics.hamming.hamming_loss_fn(y, output, threshold=0.5, mode='multilabel')\n",
        "    # loss += tf.reduce_sum(centroids[pred[idx]] - points[idx])\n",
        "    loss += distance.hamming(centroids[pred[idx]], points[idx])\n",
        "    # loss += tfa.metrics.hamming.hamming_loss_fn(centroids[pred[idx]], \n",
        "    #                                             points[idx],\n",
        "    #                                             threshold=0.5,\n",
        "    #                                             mode='multilabel')\n",
        "    # print('d ', distance.hamming(centroids[pred[idx]], points[idx]))\n",
        "  l = tf.reduce_sum(y_pred)\n",
        "  # print(loss)\n",
        "  ret = tf.constant(loss, dtype=tf.float32)\n",
        "  return ret"
      ],
      "execution_count": null,
      "outputs": []
    },
    {
      "cell_type": "markdown",
      "metadata": {
        "id": "CoozA4Y6_tZM"
      },
      "source": [
        "## Training using kmedoids clustering algorithm"
      ]
    },
    {
      "cell_type": "code",
      "metadata": {
        "colab": {
          "base_uri": "https://localhost:8080/"
        },
        "id": "mEFMpqWVAnIS",
        "outputId": "bc8513ef-14e8-473f-b7c1-c81dec325ead"
      },
      "source": [
        "!pip install scikit-learn-extra"
      ],
      "execution_count": null,
      "outputs": [
        {
          "output_type": "stream",
          "text": [
            "Collecting scikit-learn-extra\n",
            "\u001b[?25l  Downloading https://files.pythonhosted.org/packages/82/1e/79cd1a2b60a6cd6a7a9c4719f947e264ae391644adce3ddecf73afd5233d/scikit_learn_extra-0.2.0-cp37-cp37m-manylinux2010_x86_64.whl (1.7MB)\n",
            "\u001b[K     |████████████████████████████████| 1.7MB 6.6MB/s \n",
            "\u001b[?25hRequirement already satisfied: numpy>=1.13.3 in /usr/local/lib/python3.7/dist-packages (from scikit-learn-extra) (1.19.5)\n",
            "Collecting scikit-learn>=0.23.0\n",
            "\u001b[?25l  Downloading https://files.pythonhosted.org/packages/a8/eb/a48f25c967526b66d5f1fa7a984594f0bf0a5afafa94a8c4dbc317744620/scikit_learn-0.24.2-cp37-cp37m-manylinux2010_x86_64.whl (22.3MB)\n",
            "\u001b[K     |████████████████████████████████| 22.3MB 124kB/s \n",
            "\u001b[?25hRequirement already satisfied: scipy>=0.19.1 in /usr/local/lib/python3.7/dist-packages (from scikit-learn-extra) (1.4.1)\n",
            "Collecting threadpoolctl>=2.0.0\n",
            "  Downloading https://files.pythonhosted.org/packages/f7/12/ec3f2e203afa394a149911729357aa48affc59c20e2c1c8297a60f33f133/threadpoolctl-2.1.0-py3-none-any.whl\n",
            "Requirement already satisfied: joblib>=0.11 in /usr/local/lib/python3.7/dist-packages (from scikit-learn>=0.23.0->scikit-learn-extra) (1.0.1)\n",
            "Installing collected packages: threadpoolctl, scikit-learn, scikit-learn-extra\n",
            "  Found existing installation: scikit-learn 0.22.2.post1\n",
            "    Uninstalling scikit-learn-0.22.2.post1:\n",
            "      Successfully uninstalled scikit-learn-0.22.2.post1\n",
            "Successfully installed scikit-learn-0.24.2 scikit-learn-extra-0.2.0 threadpoolctl-2.1.0\n"
          ],
          "name": "stdout"
        }
      ]
    },
    {
      "cell_type": "code",
      "metadata": {
        "colab": {
          "base_uri": "https://localhost:8080/",
          "height": 563
        },
        "id": "YoFmxyPf_sav",
        "outputId": "c4058405-80d1-454c-c7e4-0908b3b30e40"
      },
      "source": [
        "from sklearn_extra.cluster import KMedoids\n",
        "import matplotlib.pyplot as plt\n",
        "from sklearn.neighbors import DistanceMetric\n",
        "\n",
        "# declare the model\n",
        "kmedoids = KMedoids(n_clusters = 15, metric='hamming')\n",
        "# train the model and get the prediction\n",
        "y_class = kmedoids.fit_predict(x_train)\n",
        "\n",
        "# plotting\n",
        "# classes = np.argmax(pred, axis=1)\n",
        "y, x = np.histogram(y_class, bins=np.arange(16))\n",
        "x = x[1:]\n",
        "plt.bar(x, y)\n",
        "plt.ylabel('input')\n",
        "plt.xlabel('class')\n",
        "plt.xticks(np.arange(1, 16, step=1))\n"
      ],
      "execution_count": null,
      "outputs": [
        {
          "output_type": "execute_result",
          "data": {
            "text/plain": [
              "([<matplotlib.axis.XTick at 0x7ff798c14fd0>,\n",
              "  <matplotlib.axis.XTick at 0x7ff798c14f90>,\n",
              "  <matplotlib.axis.XTick at 0x7ff798c14b50>,\n",
              "  <matplotlib.axis.XTick at 0x7ff798b86ed0>,\n",
              "  <matplotlib.axis.XTick at 0x7ff798b9c550>,\n",
              "  <matplotlib.axis.XTick at 0x7ff798b9ca90>,\n",
              "  <matplotlib.axis.XTick at 0x7ff798b9c090>,\n",
              "  <matplotlib.axis.XTick at 0x7ff798ba2590>,\n",
              "  <matplotlib.axis.XTick at 0x7ff798ba2ad0>,\n",
              "  <matplotlib.axis.XTick at 0x7ff798ba2110>,\n",
              "  <matplotlib.axis.XTick at 0x7ff798bac550>,\n",
              "  <matplotlib.axis.XTick at 0x7ff798baca90>,\n",
              "  <matplotlib.axis.XTick at 0x7ff798bacb90>,\n",
              "  <matplotlib.axis.XTick at 0x7ff798ba2c50>,\n",
              "  <matplotlib.axis.XTick at 0x7ff798b9c9d0>],\n",
              " <a list of 15 Text major ticklabel objects>)"
            ]
          },
          "metadata": {
            "tags": []
          },
          "execution_count": 10
        },
        {
          "output_type": "display_data",
          "data": {
            "image/png": "[encoded data removed]",
            "text/plain": [
              "<Figure size 432x288 with 1 Axes>"
            ]
          },
          "metadata": {
            "tags": [],
            "needs_background": "light"
          }
        }
      ]
    },
    {
      "cell_type": "markdown",
      "metadata": {
        "id": "9lDtwZ9JAIj4"
      },
      "source": [
        "## Merged loss: Loss1 + Loss2 + Loss3"
      ]
    },
    {
      "cell_type": "code",
      "metadata": {
        "id": "qCk-2uUSANZa"
      },
      "source": [
        "def merged_loss_fn(y_true, y_pred):\n",
        "  l1 = cost_loss_fn(y_true, y_pred) + 0.0001\n",
        "  l2 = entropy_loss_fn(y_true, y_pred) + 0.0001\n",
        "  l3 = distance_loss_fn(y_true, y_pred) + 0.0001\n",
        "  # print(\"%f %f %f\\n\" % (l1, l2, l3))\n",
        "  return l1 + l2 + l3"
      ],
      "execution_count": null,
      "outputs": []
    },
    {
      "cell_type": "code",
      "metadata": {
        "id": "jYTXBqosASxT"
      },
      "source": [
        "nn = train_nn_with_custom_loss_function(merged_loss_fn)"
      ],
      "execution_count": null,
      "outputs": []
    },
    {
      "cell_type": "code",
      "metadata": {
        "id": "9QfE9RknAW2Q"
      },
      "source": [
        "pred = nn.predict(x_train)\n",
        "pred"
      ],
      "execution_count": null,
      "outputs": []
    },
    {
      "cell_type": "code",
      "metadata": {
        "id": "QW1Y1FkSBNLK"
      },
      "source": [
        ""
      ],
      "execution_count": null,
      "outputs": []
    }
  ]
}